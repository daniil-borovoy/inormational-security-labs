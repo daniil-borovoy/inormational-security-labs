{
  "cells": [
    {
      "cell_type": "markdown",
      "id": "00ab4b09",
      "metadata": {
        "id": "00ab4b09"
      },
      "source": [
        "Первый шаг"
      ]
    },
    {
      "cell_type": "code",
      "execution_count": 117,
      "id": "ZkHfFxHhevIz",
      "metadata": {
        "colab": {
          "base_uri": "https://localhost:8080/"
        },
        "id": "ZkHfFxHhevIz",
        "outputId": "26f999e8-d95e-4577-cd67-a09279d419ac"
      },
      "outputs": [
        {
          "name": "stdout",
          "output_type": "stream",
          "text": [
            "Requirement already satisfied: transliterate in c:\\users\\danii\\appdata\\local\\programs\\python\\python311\\lib\\site-packages (1.10.2)\n",
            "Requirement already satisfied: six>=1.1.0 in c:\\users\\danii\\appdata\\local\\programs\\python\\python311\\lib\\site-packages (from transliterate) (1.16.0)\n",
            "Note: you may need to restart the kernel to use updated packages.\n"
          ]
        },
        {
          "name": "stderr",
          "output_type": "stream",
          "text": [
            "\n",
            "[notice] A new release of pip is available: 23.3.2 -> 24.0\n",
            "[notice] To update, run: python.exe -m pip install --upgrade pip\n"
          ]
        }
      ],
      "source": [
        "pip install transliterate"
      ]
    },
    {
      "cell_type": "code",
      "execution_count": 118,
      "id": "2TpUqvGHfFml",
      "metadata": {
        "id": "2TpUqvGHfFml"
      },
      "outputs": [],
      "source": [
        "from transliterate import translit"
      ]
    },
    {
      "cell_type": "code",
      "execution_count": 119,
      "id": "14429070",
      "metadata": {
        "id": "14429070"
      },
      "outputs": [],
      "source": [
        "def is_safe(v, graph, path, pos):\n",
        "    if graph[path[pos - 1]][v] == 0:\n",
        "        return False\n",
        "    for i in range(pos):\n",
        "        if path[i] == v:\n",
        "            return False\n",
        "    return True\n",
        "\n",
        "def find_all_ham_cycles(graph, pos, path, visited, cycles):\n",
        "    if pos == len(graph):\n",
        "        if graph[path[-1]][path[0]] != 0:\n",
        "            path.append(0)\n",
        "            cycles.append(path.copy())\n",
        "            path.pop()\n",
        "    else:\n",
        "        for v in range(len(graph)):\n",
        "            if is_safe(v, graph, path, pos) and not visited[v]:\n",
        "                path.append(v)\n",
        "                visited[v] = True\n",
        "                find_all_ham_cycles(graph, pos + 1, path, visited, cycles)\n",
        "                visited[v] = False\n",
        "                path.pop()"
      ]
    },
    {
      "cell_type": "markdown",
      "id": "0b29a8e1",
      "metadata": {
        "id": "0b29a8e1"
      },
      "source": [
        "Задаем граф"
      ]
    },
    {
      "cell_type": "code",
      "execution_count": 120,
      "id": "75cb6197",
      "metadata": {
        "id": "75cb6197"
      },
      "outputs": [],
      "source": [
        "matrix = [\n",
        "    [0, 1, 1, 0, 0, 0, 1, 0],\n",
        "    [1, 0, 0, 1, 0, 0, 0, 1],\n",
        "    [1, 0, 0, 1, 1, 0, 0, 0],\n",
        "    [0, 1, 1, 0, 0, 1, 0, 0],\n",
        "    [0, 0, 1, 0, 0, 1, 1, 0],\n",
        "    [0, 0, 0, 1, 1, 0, 0, 1],\n",
        "    [1, 0, 0, 0, 1, 0, 0, 1],\n",
        "    [0, 1, 0, 0, 0, 1, 1, 0]\n",
        "]"
      ]
    },
    {
      "cell_type": "markdown",
      "id": "98c9b05d",
      "metadata": {
        "id": "98c9b05d"
      },
      "source": [
        "Вызываем функцию для получения 12 гамильтоновых циклов"
      ]
    },
    {
      "cell_type": "code",
      "execution_count": 121,
      "id": "97551213",
      "metadata": {
        "id": "97551213"
      },
      "outputs": [],
      "source": [
        "cycles = []\n",
        "find_all_ham_cycles(matrix, 1, [0], [False]*len(matrix), cycles)"
      ]
    },
    {
      "cell_type": "markdown",
      "id": "f4883cc8",
      "metadata": {
        "id": "f4883cc8"
      },
      "source": [
        "Выведите первые 12 Гамильтоновых циклов"
      ]
    },
    {
      "cell_type": "code",
      "execution_count": 122,
      "id": "cb0388fc",
      "metadata": {
        "colab": {
          "base_uri": "https://localhost:8080/"
        },
        "id": "cb0388fc",
        "outputId": "094682ed-f231-4f28-9848-b134ac4c6361"
      },
      "outputs": [
        {
          "name": "stdout",
          "output_type": "stream",
          "text": [
            "12 Гамильтоновых циклов:\n",
            "Цикл 1: [0, 1, 3, 2, 4, 5, 7, 6, 0]\n",
            "Цикл 2: [0, 1, 3, 5, 7, 6, 4, 2, 0]\n",
            "Цикл 3: [0, 1, 7, 5, 3, 2, 4, 6, 0]\n",
            "Цикл 4: [0, 1, 7, 6, 4, 5, 3, 2, 0]\n",
            "Цикл 5: [0, 2, 3, 1, 7, 5, 4, 6, 0]\n",
            "Цикл 6: [0, 2, 3, 5, 4, 6, 7, 1, 0]\n",
            "Цикл 7: [0, 2, 4, 5, 3, 1, 7, 6, 0]\n",
            "Цикл 8: [0, 2, 4, 6, 7, 5, 3, 1, 0]\n",
            "Цикл 9: [0, 6, 4, 2, 3, 5, 7, 1, 0]\n",
            "Цикл 10: [0, 6, 4, 5, 7, 1, 3, 2, 0]\n",
            "Цикл 11: [0, 6, 7, 1, 3, 5, 4, 2, 0]\n",
            "Цикл 12: [0, 6, 7, 5, 4, 2, 3, 1, 0]\n"
          ]
        }
      ],
      "source": [
        "print(\"12 Гамильтоновых циклов:\")\n",
        "for i in range(12):\n",
        "    print(f\"Цикл {i+1}: {cycles[i]}\")"
      ]
    },
    {
      "cell_type": "markdown",
      "id": "a8b89c5d",
      "metadata": {
        "id": "a8b89c5d"
      },
      "source": [
        "Выбираем два цикла согласно следующему правилу:\n",
        "\n",
        "Из 12 гамильтоновых циклов необходимо выбрать два по следующему правилу:\n",
        "\n",
        "-Если текущая дата месяца 1<= N <= 11, то номер гамильтоново цикла будет N  и N+1;\n",
        "\n",
        "-Если текущая дата N равна 12 , тогда номер цикла равен  N и  N-11;\n",
        "\n",
        "-Если   текущая  дата месяца 13<= N <=31,   то номер  цикла равен  N mod 12  и N mod 12+1.\n",
        "\n",
        "Результатом  такого выбора будут последовательности номеров вершин графа, входящих в гамильтоновы циклы от 1 до  8.\n",
        "\n",
        "Эти цепочки чисел являются ключами К1 и К2."
      ]
    },
    {
      "cell_type": "code",
      "execution_count": 123,
      "id": "38631c79",
      "metadata": {
        "id": "38631c79"
      },
      "outputs": [],
      "source": [
        "data = 27\n",
        "if 1 <= data <= 11:\n",
        "    cycle1, cycle2 = cycles[data - 1], cycles[data]\n",
        "elif data == 12:\n",
        "    cycle1, cycle2 = cycles[data - 1], cycles[data - 11]\n",
        "else:\n",
        "    cycle1, cycle2 = cycles[data % 12 - 1], cycles[data % 12]"
      ]
    },
    {
      "cell_type": "markdown",
      "id": "2a75d5a5",
      "metadata": {
        "id": "2a75d5a5"
      },
      "source": [
        "Выводим наши циклы"
      ]
    },
    {
      "cell_type": "code",
      "execution_count": 124,
      "id": "e08f94cb",
      "metadata": {
        "colab": {
          "base_uri": "https://localhost:8080/"
        },
        "id": "e08f94cb",
        "outputId": "d8dec751-515c-4f25-d9e6-29a8a2624c5c"
      },
      "outputs": [
        {
          "name": "stdout",
          "output_type": "stream",
          "text": [
            "\n",
            " Выбранные циклы:  [0, 1, 7, 5, 3, 2, 4, 6, 0] [0, 1, 7, 6, 4, 5, 3, 2, 0]\n"
          ]
        }
      ],
      "source": [
        "print(\"\\n Выбранные циклы: \", cycle1, cycle2)"
      ]
    },
    {
      "cell_type": "markdown",
      "id": "3cc339da",
      "metadata": {
        "id": "3cc339da"
      },
      "source": [
        "Второй шаг"
      ]
    },
    {
      "cell_type": "markdown",
      "id": "051ef024",
      "metadata": {
        "id": "051ef024"
      },
      "source": [
        "Задаем дату, месяц и год и переводим их в таблицу ASCII"
      ]
    },
    {
      "cell_type": "code",
      "execution_count": 125,
      "id": "6a61bfb7",
      "metadata": {
        "id": "6a61bfb7"
      },
      "outputs": [
        {
          "name": "stdout",
          "output_type": "stream",
          "text": [
            "27 mar 2024\n"
          ]
        }
      ],
      "source": [
        "import datetime\n",
        "# Get current date\n",
        "date = datetime.datetime.now().day\n",
        "month = (datetime.datetime.now().strftime('%b')).lower()\n",
        "year = datetime.datetime.now().year\n",
        "\n",
        "print(date, month, year)\n",
        "\n",
        "date_ascii = [format(i, '08b') for i in [1, 5]]\n",
        "month_ascii = [format(ord(i), '08b') for i in month]\n",
        "year_ascii = [format(i, '08b') for i in [0, 2, 4]]"
      ]
    },
    {
      "cell_type": "markdown",
      "id": "c003ec2e",
      "metadata": {
        "id": "c003ec2e"
      },
      "source": [
        "Объединяем все коды ASCII в одну матрицу"
      ]
    },
    {
      "cell_type": "code",
      "execution_count": 126,
      "id": "ec8f80fb",
      "metadata": {
        "id": "ec8f80fb"
      },
      "outputs": [],
      "source": [
        "key_matrix = date_ascii + month_ascii + year_ascii"
      ]
    },
    {
      "cell_type": "markdown",
      "id": "3d1466bb",
      "metadata": {
        "id": "3d1466bb"
      },
      "source": [
        "Выводим 64-битную ключевую матрицу, где\n",
        "\n",
        "Первые две строки - дата\n",
        "\n",
        "Следующие три строки - месяц\n",
        "\n",
        "Последние две строки год"
      ]
    },
    {
      "cell_type": "code",
      "execution_count": 127,
      "id": "f866b543",
      "metadata": {
        "colab": {
          "base_uri": "https://localhost:8080/"
        },
        "id": "f866b543",
        "outputId": "64fc4be0-d212-4e41-9c65-efd3f329a390"
      },
      "outputs": [
        {
          "name": "stdout",
          "output_type": "stream",
          "text": [
            "\n",
            " 64-битная ключевая матрица:\n",
            "00000001\n",
            "00000101\n",
            "01101101\n",
            "01100001\n",
            "01110010\n",
            "00000000\n",
            "00000010\n",
            "00000100\n"
          ]
        }
      ],
      "source": [
        "print(\"\\n 64-битная ключевая матрица:\")\n",
        "for row in key_matrix:\n",
        "    print(row)"
      ]
    },
    {
      "cell_type": "markdown",
      "id": "de2c4747",
      "metadata": {
        "id": "de2c4747"
      },
      "source": [
        "Третий шаг"
      ]
    },
    {
      "cell_type": "markdown",
      "id": "e274c456",
      "metadata": {
        "id": "e274c456"
      },
      "source": [
        "Применяем перестановку по строкам и столбцам с использованием ключей К1 и К2"
      ]
    },
    {
      "cell_type": "code",
      "execution_count": 128,
      "id": "5c832d9e",
      "metadata": {
        "id": "5c832d9e"
      },
      "outputs": [],
      "source": [
        "key_matrix_permuted = [key_matrix[i-1] for i in cycle1]\n",
        "key_matrix_permuted = [[row[i-1] for i in cycle2] for row in key_matrix_permuted]"
      ]
    },
    {
      "cell_type": "markdown",
      "id": "ec75e6ca",
      "metadata": {
        "id": "ec75e6ca"
      },
      "source": [
        "Выводим результат"
      ]
    },
    {
      "cell_type": "code",
      "execution_count": 129,
      "id": "d7daee66",
      "metadata": {
        "colab": {
          "base_uri": "https://localhost:8080/"
        },
        "id": "d7daee66",
        "outputId": "c0f34ca9-4e35-4172-ec53-1f5f80aac1fb"
      },
      "outputs": [
        {
          "name": "stdout",
          "output_type": "stream",
          "text": [
            "\n",
            " Перестановка по строкам и столбцам:  [['0', '0', '0', '1', '0', '0', '0', '0', '0'], ['1', '0', '0', '0', '0', '0', '0', '0', '1'], ['0', '0', '1', '0', '0', '0', '0', '0', '0'], ['0', '0', '1', '0', '1', '0', '1', '1', '0'], ['1', '0', '0', '1', '0', '1', '1', '1', '1'], ['1', '0', '0', '1', '0', '0', '0', '0', '1'], ['1', '0', '0', '0', '0', '0', '1', '1', '1'], ['0', '0', '0', '0', '0', '0', '0', '0', '0'], ['0', '0', '0', '1', '0', '0', '0', '0', '0']]\n"
          ]
        }
      ],
      "source": [
        "print(\"\\n Перестановка по строкам и столбцам: \",key_matrix_permuted)"
      ]
    },
    {
      "cell_type": "markdown",
      "id": "76bf4c05",
      "metadata": {
        "id": "76bf4c05"
      },
      "source": [
        "Функция для циклического сдвига"
      ]
    },
    {
      "cell_type": "code",
      "execution_count": 130,
      "id": "6c8879f0",
      "metadata": {
        "id": "6c8879f0"
      },
      "outputs": [],
      "source": [
        "def shift_row(row, n):\n",
        "    return row[n:] + row[:n]"
      ]
    },
    {
      "cell_type": "markdown",
      "id": "335df0bf",
      "metadata": {
        "id": "335df0bf"
      },
      "source": [
        "Применяем циклический сдвиг влево на 3 символа для нечётных номеров матрицы и сдвиг вправо на 3 символа для чётных"
      ]
    },
    {
      "cell_type": "code",
      "execution_count": 131,
      "id": "a89e51a3",
      "metadata": {
        "id": "a89e51a3"
      },
      "outputs": [],
      "source": [
        "key_matrix_shifted = [shift_row(row, -3) if i % 2 == 0 else shift_row(row, 3) for i, row in enumerate(key_matrix_permuted, 1)]"
      ]
    },
    {
      "cell_type": "markdown",
      "id": "5c8b5d02",
      "metadata": {
        "id": "5c8b5d02"
      },
      "source": [
        "Преобразуйте матрицу в строку битов и получем К1р"
      ]
    },
    {
      "cell_type": "code",
      "execution_count": 132,
      "id": "02b43787",
      "metadata": {
        "id": "02b43787"
      },
      "outputs": [],
      "source": [
        "K1r = ''.join(''.join(row) for row in key_matrix_shifted)"
      ]
    },
    {
      "cell_type": "markdown",
      "id": "f543e42d",
      "metadata": {
        "id": "f543e42d"
      },
      "source": [
        "Выводим К1р"
      ]
    },
    {
      "cell_type": "code",
      "execution_count": 133,
      "id": "908785b5",
      "metadata": {
        "colab": {
          "base_uri": "https://localhost:8080/"
        },
        "id": "908785b5",
        "outputId": "275f9480-7a11-403a-bd81-0642b7a90366"
      },
      "outputs": [
        {
          "name": "stdout",
          "output_type": "stream",
          "text": [
            "\n",
            " К1р: 100000000001100000000000001110001010101111100001100100000111100000000000100000000\n"
          ]
        }
      ],
      "source": [
        "print(\"\\n К1р:\", K1r)"
      ]
    },
    {
      "cell_type": "markdown",
      "id": "f8b00f7b",
      "metadata": {
        "id": "f8b00f7b"
      },
      "source": [
        "Четвертый шаг"
      ]
    },
    {
      "cell_type": "markdown",
      "id": "fbf67dea",
      "metadata": {
        "id": "fbf67dea"
      },
      "source": [
        "Вычисляем К2р и К3р по правилу:\n",
        "\n",
        "К2р = К1р XOR Борислав;\n",
        "\n",
        "К3р = К2р XOR Антонина."
      ]
    },
    {
      "cell_type": "markdown",
      "id": "6b32acde",
      "metadata": {
        "id": "6b32acde"
      },
      "source": [
        "Функция для преобразования строки в биты"
      ]
    },
    {
      "cell_type": "code",
      "execution_count": 134,
      "id": "c42bfdce",
      "metadata": {
        "id": "c42bfdce"
      },
      "outputs": [],
      "source": [
        "def str_to_bits(s):\n",
        "    return ''.join(format(ord(i), '08b') for i in s)"
      ]
    },
    {
      "cell_type": "markdown",
      "id": "04c968b5",
      "metadata": {
        "id": "04c968b5"
      },
      "source": [
        "Преобразуем строки 'Bronislav' и 'Antonina' в битовые строки"
      ]
    },
    {
      "cell_type": "code",
      "execution_count": 135,
      "id": "be456f27",
      "metadata": {
        "id": "be456f27"
      },
      "outputs": [],
      "source": [
        "bronislav_bits = str_to_bits('Bronislav')\n",
        "antonina_bits = str_to_bits('Antonina')"
      ]
    },
    {
      "cell_type": "markdown",
      "id": "c2a9fc1a",
      "metadata": {
        "id": "c2a9fc1a"
      },
      "source": [
        "Убеждаемся, что все строки имеют одинаковую длину, дополнив нулями справа"
      ]
    },
    {
      "cell_type": "code",
      "execution_count": 136,
      "id": "45e8cc7f",
      "metadata": {
        "id": "45e8cc7f"
      },
      "outputs": [],
      "source": [
        "max_len = max(len(bronislav_bits), len(antonina_bits), len(K1r))\n",
        "bronislav_bits = bronislav_bits.ljust(max_len, '0')\n",
        "antonina_bits = antonina_bits.ljust(max_len, '0')\n",
        "K1r = K1r.ljust(max_len, '0')"
      ]
    },
    {
      "cell_type": "markdown",
      "id": "42f6dcd2",
      "metadata": {
        "id": "42f6dcd2"
      },
      "source": [
        "Выводим полученный результат в битах"
      ]
    },
    {
      "cell_type": "code",
      "execution_count": 137,
      "id": "1d7c3ef7",
      "metadata": {
        "colab": {
          "base_uri": "https://localhost:8080/"
        },
        "id": "1d7c3ef7",
        "outputId": "c32b2520-3cf6-4c24-a638-98e90fc8ff5b"
      },
      "outputs": [
        {
          "name": "stdout",
          "output_type": "stream",
          "text": [
            "\n",
            " Bronislav в битах:  010000100111001001101111011011100110100101110011011011000110000101110110000000000\n",
            "\n",
            " Antonina в битах:   010000010110111001110100011011110110111001101001011011100110000100000000000000000\n"
          ]
        }
      ],
      "source": [
        "print(\"\\n Bronislav в битах: \", bronislav_bits)\n",
        "print(\"\\n Antonina в битах:  \", antonina_bits)"
      ]
    },
    {
      "cell_type": "markdown",
      "id": "450caef7",
      "metadata": {
        "id": "450caef7"
      },
      "source": [
        "Функция для вычисления XOR"
      ]
    },
    {
      "cell_type": "code",
      "execution_count": 138,
      "id": "f07de504",
      "metadata": {
        "id": "f07de504"
      },
      "outputs": [],
      "source": [
        "def xor_strings(s1, s2):\n",
        "    return ''.join(str(int(b1) ^ int(b2)) for b1, b2 in zip(s1, s2))"
      ]
    },
    {
      "cell_type": "markdown",
      "id": "e0cb7f8c",
      "metadata": {
        "id": "e0cb7f8c"
      },
      "source": [
        "Вычисляем К2р и К3р"
      ]
    },
    {
      "cell_type": "code",
      "execution_count": 139,
      "id": "d997f3a7",
      "metadata": {
        "id": "d997f3a7"
      },
      "outputs": [],
      "source": [
        "K2r = xor_strings(K1r, bronislav_bits)\n",
        "K3r = xor_strings(K2r, antonina_bits)"
      ]
    },
    {
      "cell_type": "markdown",
      "id": "207cc957",
      "metadata": {
        "id": "207cc957"
      },
      "source": [
        "Выводи K2р и К3р"
      ]
    },
    {
      "cell_type": "code",
      "execution_count": 140,
      "id": "82ecba15",
      "metadata": {
        "colab": {
          "base_uri": "https://localhost:8080/"
        },
        "id": "82ecba15",
        "outputId": "c4834332-67d6-40d1-f0d5-2dc94c86fc7e"
      },
      "outputs": [
        {
          "name": "stdout",
          "output_type": "stream",
          "text": [
            "\n",
            " К2р: 110000100110101001101111010101101100001010010010111111000001100101110110100000000\n",
            "\n",
            " К3р: 100000110000010000011011001110011010110011111011100100100111100001110110100000000\n"
          ]
        }
      ],
      "source": [
        "print(\"\\n К2р:\", K2r)\n",
        "print(\"\\n К3р:\", K3r)"
      ]
    },
    {
      "cell_type": "markdown",
      "id": "cf4df2ab",
      "metadata": {
        "id": "cf4df2ab"
      },
      "source": [
        "Пятый шаг"
      ]
    },
    {
      "cell_type": "markdown",
      "id": "b9e2edf1",
      "metadata": {
        "id": "b9e2edf1"
      },
      "source": [
        "Задем текст согласно варианту из 16 букв"
      ]
    },
    {
      "cell_type": "code",
      "execution_count": 141,
      "id": "a2356f99",
      "metadata": {
        "id": "a2356f99"
      },
      "outputs": [],
      "source": [
        "text=\"Дезинфицирование\"\n",
        "text=translit(text, 'ru', reversed=True)"
      ]
    },
    {
      "cell_type": "markdown",
      "id": "2dc0c34e",
      "metadata": {
        "id": "2dc0c34e"
      },
      "source": [
        "Выводим выбранный варинт"
      ]
    },
    {
      "cell_type": "code",
      "execution_count": 142,
      "id": "c88dac45",
      "metadata": {
        "colab": {
          "base_uri": "https://localhost:8080/"
        },
        "id": "c88dac45",
        "outputId": "3c0e26ff-35d4-4fb6-9114-16eec3633073"
      },
      "outputs": [
        {
          "name": "stdout",
          "output_type": "stream",
          "text": [
            "Исходный текст для шифровния:  Dezinfitsirovanie\n"
          ]
        }
      ],
      "source": [
        "print(\"Исходный текст для шифровния: \", text)"
      ]
    },
    {
      "cell_type": "markdown",
      "id": "e95e7a52",
      "metadata": {
        "id": "e95e7a52"
      },
      "source": [
        "Преобразуем текст в биты"
      ]
    },
    {
      "cell_type": "code",
      "execution_count": 143,
      "id": "22e91745",
      "metadata": {
        "id": "22e91745"
      },
      "outputs": [],
      "source": [
        "text_bits = ''.join(format(ord(i), '08b') for i in text)"
      ]
    },
    {
      "cell_type": "markdown",
      "id": "2f10932d",
      "metadata": {
        "id": "2f10932d"
      },
      "source": [
        "Выведем результат"
      ]
    },
    {
      "cell_type": "code",
      "execution_count": 144,
      "id": "c21195ab",
      "metadata": {
        "colab": {
          "base_uri": "https://localhost:8080/"
        },
        "id": "c21195ab",
        "outputId": "56448257-e00b-4910-c7bb-f19857cbda7d"
      },
      "outputs": [
        {
          "name": "stdout",
          "output_type": "stream",
          "text": [
            "\n",
            " Дезинформирование в битах:  0100010001100101011110100110100101101110011001100110100101110100011100110110100101110010011011110111011001100001011011100110100101100101\n"
          ]
        }
      ],
      "source": [
        "print(\"\\n Дезинформирование в битах: \",text_bits)"
      ]
    },
    {
      "cell_type": "markdown",
      "id": "7f7df046",
      "metadata": {
        "id": "7f7df046"
      },
      "source": [
        "Разбиваем текст на два блока по 64 бита каждый"
      ]
    },
    {
      "cell_type": "code",
      "execution_count": 145,
      "id": "22ef416a",
      "metadata": {
        "id": "22ef416a"
      },
      "outputs": [],
      "source": [
        "block1 = text_bits[:64]\n",
        "block2 = text_bits[64:]"
      ]
    },
    {
      "cell_type": "markdown",
      "id": "640a4b38",
      "metadata": {
        "id": "640a4b38"
      },
      "source": [
        "Выводим полученный результат"
      ]
    },
    {
      "cell_type": "code",
      "execution_count": 146,
      "id": "acfd16ca",
      "metadata": {
        "colab": {
          "base_uri": "https://localhost:8080/"
        },
        "id": "acfd16ca",
        "outputId": "7b265e12-1db2-4986-a702-5ee6e1f039dc"
      },
      "outputs": [
        {
          "name": "stdout",
          "output_type": "stream",
          "text": [
            "\n",
            " Блок 1:  0100010001100101011110100110100101101110011001100110100101110100\n",
            "\n",
            " Блок 2:  011100110110100101110010011011110111011001100001011011100110100101100101\n"
          ]
        }
      ],
      "source": [
        "print(\"\\n Блок 1: \", block1)\n",
        "print(\"\\n Блок 2: \", block2)"
      ]
    },
    {
      "cell_type": "markdown",
      "id": "988e1995",
      "metadata": {
        "id": "988e1995"
      },
      "source": [
        "Определяем функцию для шифрования методом Цезаря"
      ]
    },
    {
      "cell_type": "code",
      "execution_count": 147,
      "id": "813a7812",
      "metadata": {
        "id": "813a7812"
      },
      "outputs": [],
      "source": [
        "def caesar_cipher(text, shift):\n",
        "    return ''.join(chr((ord(char) - 65 + shift) % 26 + 65) for char in text)"
      ]
    },
    {
      "cell_type": "markdown",
      "id": "571f35c4",
      "metadata": {
        "id": "571f35c4"
      },
      "source": [
        "Применяем шифрование методом Цезаря с ключом 5"
      ]
    },
    {
      "cell_type": "code",
      "execution_count": 148,
      "id": "14b0f446",
      "metadata": {
        "id": "14b0f446"
      },
      "outputs": [],
      "source": [
        "block2_ciphered = caesar_cipher(block2, 5)"
      ]
    },
    {
      "cell_type": "markdown",
      "id": "35e3b491",
      "metadata": {
        "id": "35e3b491"
      },
      "source": [
        "Определяем функцию для перестановки с ключом"
      ]
    },
    {
      "cell_type": "code",
      "execution_count": 149,
      "id": "fa95423b",
      "metadata": {
        "id": "fa95423b"
      },
      "outputs": [],
      "source": [
        "def permutation(text, key):\n",
        "    return ''.join(text[i-1] for i in key)"
      ]
    },
    {
      "cell_type": "markdown",
      "id": "1ac4c6c9",
      "metadata": {
        "id": "1ac4c6c9"
      },
      "source": [
        "Примените перестановку с ключом 74362158"
      ]
    },
    {
      "cell_type": "code",
      "execution_count": 150,
      "id": "e447f29b",
      "metadata": {
        "id": "e447f29b"
      },
      "outputs": [],
      "source": [
        "key = [7, 4, 3, 6, 2, 1, 5, 8]\n",
        "block2_permuted = permutation(block2_ciphered, key)\n",
        "block2_permuted_bits = str_to_bits(block2_permuted)"
      ]
    },
    {
      "cell_type": "markdown",
      "id": "e55220ad",
      "metadata": {
        "id": "e55220ad"
      },
      "source": [
        "Выводим полученный результат в битах"
      ]
    },
    {
      "cell_type": "code",
      "execution_count": 151,
      "id": "da54b06f",
      "metadata": {
        "colab": {
          "base_uri": "https://localhost:8080/"
        },
        "id": "da54b06f",
        "outputId": "8d4635af-e8ca-40d8-8595-b43302837b1b"
      },
      "outputs": [
        {
          "name": "stdout",
          "output_type": "stream",
          "text": [
            "\n",
            " Перестановка в битах  0101000001010000010100000100111101010000010011110100111101010000\n"
          ]
        }
      ],
      "source": [
        "print(\"\\n Перестановка в битах \",block2_permuted_bits)"
      ]
    },
    {
      "cell_type": "markdown",
      "id": "5c2cc4bd",
      "metadata": {
        "id": "5c2cc4bd"
      },
      "source": [
        "Сумма ключа первого раунда К1р по модулю 2 с результатом, полученным на предыдущем шаге"
      ]
    },
    {
      "cell_type": "code",
      "execution_count": 152,
      "id": "c254e8dd",
      "metadata": {
        "id": "c254e8dd"
      },
      "outputs": [],
      "source": [
        "result = xor_strings(K1r, block2_permuted_bits)"
      ]
    },
    {
      "cell_type": "markdown",
      "id": "c2811770",
      "metadata": {
        "id": "c2811770"
      },
      "source": [
        "Выводим результат"
      ]
    },
    {
      "cell_type": "code",
      "execution_count": 153,
      "id": "9a8f28d6",
      "metadata": {
        "colab": {
          "base_uri": "https://localhost:8080/"
        },
        "id": "9a8f28d6",
        "outputId": "e44be574-d2b2-475c-b50d-2b6c2f659819"
      },
      "outputs": [
        {
          "name": "stdout",
          "output_type": "stream",
          "text": [
            "\n",
            " Сумма К1р по модулю 2 с перестановкой:  1101000001001000010100000111011111111011101011101101111100101000\n"
          ]
        }
      ],
      "source": [
        "print(\"\\n Сумма К1р по модулю 2 с перестановкой: \", result)"
      ]
    },
    {
      "cell_type": "markdown",
      "id": "37d44aea",
      "metadata": {
        "id": "37d44aea"
      },
      "source": [
        "Применяем двойную перестановку с теми же ключами К1 = 5 и К2 = 74362158"
      ]
    },
    {
      "cell_type": "code",
      "execution_count": 154,
      "id": "64187cac",
      "metadata": {
        "id": "64187cac"
      },
      "outputs": [],
      "source": [
        "result_permuted = permutation(caesar_cipher(result, 5), key)"
      ]
    },
    {
      "cell_type": "markdown",
      "id": "e93ec4b6",
      "metadata": {
        "id": "e93ec4b6"
      },
      "source": [
        "Примените перестановку комбинированным шрифтом к правой части"
      ]
    },
    {
      "cell_type": "code",
      "execution_count": 155,
      "id": "18bb322c",
      "metadata": {
        "id": "18bb322c"
      },
      "outputs": [],
      "source": [
        "block2_ciphered = caesar_cipher(block2, 5)\n",
        "block2_permuted_bits = str_to_bits(permutation(block2_ciphered, key))"
      ]
    },
    {
      "cell_type": "markdown",
      "id": "f7176b48",
      "metadata": {
        "id": "f7176b48"
      },
      "source": [
        "Меняем блоки местами"
      ]
    },
    {
      "cell_type": "code",
      "execution_count": 156,
      "id": "c0359969",
      "metadata": {
        "id": "c0359969"
      },
      "outputs": [],
      "source": [
        "block1, block2 = block2, block1"
      ]
    },
    {
      "cell_type": "markdown",
      "id": "29ee3d45",
      "metadata": {
        "id": "29ee3d45"
      },
      "source": [
        "Суммируем ключ второго раунда К2р по модулю 2 с результатом, полученным на предыдущем шаге"
      ]
    },
    {
      "cell_type": "code",
      "execution_count": 157,
      "id": "fdbc3181",
      "metadata": {
        "id": "fdbc3181"
      },
      "outputs": [],
      "source": [
        "result = xor_strings(K2r, block2_permuted_bits)"
      ]
    },
    {
      "cell_type": "markdown",
      "id": "b85274d3",
      "metadata": {
        "id": "b85274d3"
      },
      "source": [
        "Выводим результат"
      ]
    },
    {
      "cell_type": "code",
      "execution_count": 158,
      "id": "a1a59e97",
      "metadata": {
        "colab": {
          "base_uri": "https://localhost:8080/"
        },
        "id": "a1a59e97",
        "outputId": "b42ea0a4-80ce-4a30-b0fa-2f7c6cfd5e77"
      },
      "outputs": [
        {
          "name": "stdout",
          "output_type": "stream",
          "text": [
            "\n",
            "Сложение ключа второго раунда К2р по модулю 2 с результатом:  1001001000111010001111110001100110010010110111011011001101001001\n"
          ]
        }
      ],
      "source": [
        "print(\"\\nСложение ключа второго раунда К2р по модулю 2 с результатом: \", result)"
      ]
    },
    {
      "cell_type": "markdown",
      "id": "9feb0ea4",
      "metadata": {
        "id": "9feb0ea4"
      },
      "source": [
        "Применяем двойную перестановку с теми же ключами К1 = 5 и К2 = 74362158"
      ]
    },
    {
      "cell_type": "code",
      "execution_count": 159,
      "id": "3d288063",
      "metadata": {
        "id": "3d288063"
      },
      "outputs": [],
      "source": [
        "result_permuted_bits = str_to_bits(permutation(caesar_cipher(result, 5), key))"
      ]
    },
    {
      "cell_type": "markdown",
      "id": "ebd599dc",
      "metadata": {
        "id": "ebd599dc"
      },
      "source": [
        "Выводим результат"
      ]
    },
    {
      "cell_type": "code",
      "execution_count": 160,
      "id": "e7390ba2",
      "metadata": {
        "colab": {
          "base_uri": "https://localhost:8080/"
        },
        "id": "e7390ba2",
        "outputId": "4c048cc9-db41-41d3-af81-1631140ce736"
      },
      "outputs": [
        {
          "name": "stdout",
          "output_type": "stream",
          "text": [
            "\n",
            "Двойная перестановка с теми же ключами:  0101000001010000010011110100111101001111010100000100111101001111\n"
          ]
        }
      ],
      "source": [
        "print(\"\\nДвойная перестановка с теми же ключами: \", result_permuted_bits)"
      ]
    },
    {
      "cell_type": "markdown",
      "id": "2605825b",
      "metadata": {
        "id": "2605825b"
      },
      "source": [
        "Меняем блоки местами"
      ]
    },
    {
      "cell_type": "code",
      "execution_count": 161,
      "id": "6af75557",
      "metadata": {
        "id": "6af75557"
      },
      "outputs": [],
      "source": [
        "block1, block2 = block2, block1"
      ]
    },
    {
      "cell_type": "markdown",
      "id": "79752f21",
      "metadata": {
        "id": "79752f21"
      },
      "source": [
        "Считаем К2р"
      ]
    },
    {
      "cell_type": "markdown",
      "id": "0920dacb",
      "metadata": {
        "id": "0920dacb"
      },
      "source": [
        "Применяем перестановку комбинированным шрифтом к правой части"
      ]
    },
    {
      "cell_type": "code",
      "execution_count": 162,
      "id": "648cb575",
      "metadata": {
        "id": "648cb575"
      },
      "outputs": [],
      "source": [
        "block2_ciphered = caesar_cipher(block2, 5)\n",
        "block2_permuted_bits = str_to_bits(permutation(block2_ciphered, key))"
      ]
    },
    {
      "cell_type": "markdown",
      "id": "ac26c446",
      "metadata": {
        "id": "ac26c446"
      },
      "source": [
        "Суммируем ключ третьего раунда К3р по модулю 2 с результатом, полученным на предыдущем шаге"
      ]
    },
    {
      "cell_type": "code",
      "execution_count": 163,
      "id": "807b3cdd",
      "metadata": {
        "id": "807b3cdd"
      },
      "outputs": [],
      "source": [
        "result = xor_strings(K3r, block2_permuted_bits)"
      ]
    },
    {
      "cell_type": "markdown",
      "id": "d5cfc7b0",
      "metadata": {
        "id": "d5cfc7b0"
      },
      "source": [
        "Применяем двойную перестановку с теми же ключами К1 = 5 и К2 = 74362158"
      ]
    },
    {
      "cell_type": "code",
      "execution_count": 164,
      "id": "cc5c4bf7",
      "metadata": {
        "id": "cc5c4bf7"
      },
      "outputs": [],
      "source": [
        "result_permuted_bits = str_to_bits(permutation(caesar_cipher(result, 5), key))"
      ]
    },
    {
      "cell_type": "markdown",
      "id": "7808622f",
      "metadata": {
        "id": "7808622f"
      },
      "source": [
        "Выводим результат"
      ]
    },
    {
      "cell_type": "code",
      "execution_count": 165,
      "id": "55274ea2",
      "metadata": {
        "colab": {
          "base_uri": "https://localhost:8080/"
        },
        "id": "55274ea2",
        "outputId": "d877f33b-9646-4eb9-c897-feb7684e56ed"
      },
      "outputs": [
        {
          "name": "stdout",
          "output_type": "stream",
          "text": [
            "\n",
            "Результаты после трех раундов шифрования в битах:\n",
            "Блок 1: 0100010001100101011110100110100101101110011001100110100101110100\n",
            "Блок 2: 011100110110100101110010011011110111011001100001011011100110100101100101\n"
          ]
        }
      ],
      "source": [
        "print(\"\\nРезультаты после трех раундов шифрования в битах:\")\n",
        "print(\"Блок 1:\", block1)\n",
        "print(\"Блок 2:\", block2)"
      ]
    },
    {
      "cell_type": "markdown",
      "id": "869f642a",
      "metadata": {
        "id": "869f642a"
      },
      "source": [
        "Определяем функция для преобразовния битов обратно в строку"
      ]
    },
    {
      "cell_type": "code",
      "execution_count": 166,
      "id": "d99d4e83",
      "metadata": {
        "id": "d99d4e83"
      },
      "outputs": [],
      "source": [
        "def bits_to_str(bits):\n",
        "    return ''.join(chr(int(bits[i:i+8], 2)) for i in range(0, len(bits), 8))"
      ]
    },
    {
      "cell_type": "markdown",
      "id": "8f797751",
      "metadata": {
        "id": "8f797751"
      },
      "source": [
        "Преобразовываем биты обратно в символы и выводим результат"
      ]
    },
    {
      "cell_type": "code",
      "execution_count": 167,
      "id": "a7cdf2c0",
      "metadata": {
        "colab": {
          "base_uri": "https://localhost:8080/"
        },
        "id": "a7cdf2c0",
        "outputId": "92da3178-c91a-4a8a-a51c-a88c7da465ec"
      },
      "outputs": [
        {
          "name": "stdout",
          "output_type": "stream",
          "text": [
            "\n",
            "Результаты после трех раундов шифрования:\n",
            "Блок 1: Dezinfit\n",
            "Блок 2: sirovanie\n"
          ]
        }
      ],
      "source": [
        "print(\"\\nРезультаты после трех раундов шифрования:\")\n",
        "print(\"Блок 1:\", bits_to_str(block1))\n",
        "print(\"Блок 2:\", bits_to_str(block2))"
      ]
    },
    {
      "cell_type": "markdown",
      "id": "c62d4329",
      "metadata": {
        "id": "c62d4329"
      },
      "source": [
        "Обьеденяем слово"
      ]
    },
    {
      "cell_type": "code",
      "execution_count": 168,
      "id": "24e7ef35",
      "metadata": {
        "id": "24e7ef35"
      },
      "outputs": [],
      "source": [
        "sv_str1=bits_to_str(block1)\n",
        "sv_str2=bits_to_str(block2)\n",
        "sv_str3=sv_str1+sv_str2"
      ]
    },
    {
      "cell_type": "markdown",
      "id": "73d0b185",
      "metadata": {
        "id": "73d0b185"
      },
      "source": [
        "Выводим результат"
      ]
    },
    {
      "cell_type": "code",
      "execution_count": 169,
      "id": "5e2999b7",
      "metadata": {
        "colab": {
          "base_uri": "https://localhost:8080/"
        },
        "id": "5e2999b7",
        "outputId": "7bc08a9a-3b11-4c88-b6ef-508510a2ba78"
      },
      "outputs": [
        {
          "name": "stdout",
          "output_type": "stream",
          "text": [
            "\n",
            "Слово:  Дезинфицирование\n"
          ]
        }
      ],
      "source": [
        "print(\"\\nСлово: \", translit(sv_str3, 'ru'))"
      ]
    }
  ],
  "metadata": {
    "colab": {
      "provenance": []
    },
    "kernelspec": {
      "display_name": "Python 3 (ipykernel)",
      "language": "python",
      "name": "python3"
    },
    "language_info": {
      "codemirror_mode": {
        "name": "ipython",
        "version": 3
      },
      "file_extension": ".py",
      "mimetype": "text/x-python",
      "name": "python",
      "nbconvert_exporter": "python",
      "pygments_lexer": "ipython3",
      "version": "3.11.2"
    }
  },
  "nbformat": 4,
  "nbformat_minor": 5
}
